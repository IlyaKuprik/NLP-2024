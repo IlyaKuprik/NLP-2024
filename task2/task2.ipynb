{
 "cells": [
  {
   "cell_type": "markdown",
   "metadata": {},
   "source": [
    "# Вариант 1"
   ]
  },
  {
   "cell_type": "code",
   "execution_count": 5,
   "metadata": {},
   "outputs": [
    {
     "name": "stderr",
     "output_type": "stream",
     "text": [
      "[nltk_data] Downloading package stopwords to\n",
      "[nltk_data]     /Users/kuprik01/nltk_data...\n",
      "[nltk_data]   Package stopwords is already up-to-date!\n"
     ]
    }
   ],
   "source": [
    "import pandas as pd\n",
    "from sklearn.model_selection import train_test_split\n",
    "import nltk\n",
    "from nltk.corpus import stopwords\n",
    "from pymorphy3 import MorphAnalyzer\n",
    "import gensim\n",
    "from gensim.models import Word2Vec\n",
    "import numpy as np\n",
    "\n",
    "morph = MorphAnalyzer()\n",
    "nltk.download('stopwords')\n",
    "stop_words = set(stopwords.words('russian'))\n"
   ]
  },
  {
   "cell_type": "markdown",
   "metadata": {},
   "source": [
    "## 1. Препроцессинг данных и обучение Word2Vec"
   ]
  },
  {
   "cell_type": "code",
   "execution_count": 3,
   "metadata": {},
   "outputs": [],
   "source": [
    "def preprocess_text(text):\n",
    "    # tokens = text.lower().split()\n",
    "    tokens = text.split()\n",
    "    tokens = [morph.parse(word)[0].normal_form for word in tokens if word not in stop_words]\n",
    "    return tokens\n",
    "\n",
    "data = pd.read_csv('../data/news.txt', sep='\\t', names=['category', 'title', 'article'])\n",
    "data['processed_text'] = data['article'].apply(preprocess_text)"
   ]
  },
  {
   "cell_type": "code",
   "execution_count": 4,
   "metadata": {},
   "outputs": [],
   "source": [
    "model = Word2Vec(sentences=data['processed_text'], vector_size=100, window=5, min_count=2, workers=4)"
   ]
  },
  {
   "cell_type": "markdown",
   "metadata": {},
   "source": [
    "## 2. Разделяем данные и считаем усредненные эмбеддинги "
   ]
  },
  {
   "cell_type": "code",
   "execution_count": 6,
   "metadata": {},
   "outputs": [],
   "source": [
    "def vectorize_text(tokens, model):\n",
    "    vectors = [model.wv[word] for word in tokens if word in model.wv]\n",
    "    if vectors:\n",
    "        return sum(vectors) / len(vectors)\n",
    "    else:\n",
    "        return np.zeros(model.vector_size)\n",
    "\n",
    "data['embedding'] = data['processed_text'].apply(lambda x: vectorize_text(x, model))"
   ]
  },
  {
   "cell_type": "code",
   "execution_count": 8,
   "metadata": {},
   "outputs": [],
   "source": [
    "X = data['embedding'].tolist()\n",
    "y = data['category']\n",
    "\n",
    "X_train, X_test, y_train, y_test = train_test_split(X, y, test_size=0.2, random_state=42)"
   ]
  },
  {
   "cell_type": "markdown",
   "metadata": {},
   "source": [
    "## 3. Обучение SVM на усредненных данных "
   ]
  },
  {
   "cell_type": "code",
   "execution_count": 14,
   "metadata": {},
   "outputs": [
    {
     "name": "stdout",
     "output_type": "stream",
     "text": [
      "              precision    recall  f1-score   support\n",
      "\n",
      "    business       0.40      0.08      0.13        79\n",
      "     culture       0.79      0.78      0.79       279\n",
      "   economics       0.68      0.90      0.78       266\n",
      "      forces       0.67      0.79      0.73       149\n",
      "        life       0.73      0.76      0.74       288\n",
      "       media       0.77      0.73      0.75       299\n",
      "     science       0.81      0.79      0.80       288\n",
      "       sport       0.95      0.95      0.95       276\n",
      "       style       0.96      0.61      0.74        38\n",
      "      travel       0.47      0.24      0.32        38\n",
      "\n",
      "    accuracy                           0.77      2000\n",
      "   macro avg       0.72      0.66      0.67      2000\n",
      "weighted avg       0.76      0.77      0.76      2000\n",
      "\n"
     ]
    }
   ],
   "source": [
    "from sklearn.svm import SVC\n",
    "from sklearn.metrics import classification_report\n",
    "\n",
    "svm_classifier = SVC(kernel='linear')\n",
    "svm_classifier.fit(X_train, y_train)\n",
    "\n",
    "y_pred = svm_classifier.predict(X_test)\n",
    "\n",
    "print(classification_report(y_test, y_pred))"
   ]
  },
  {
   "cell_type": "markdown",
   "metadata": {},
   "source": [
    "Итоговый accuracy для SVM на усредненных векторах получился 0.77"
   ]
  },
  {
   "cell_type": "markdown",
   "metadata": {},
   "source": [
    "## Альтернативная аггрегация"
   ]
  },
  {
   "cell_type": "code",
   "execution_count": 16,
   "metadata": {},
   "outputs": [
    {
     "name": "stdout",
     "output_type": "stream",
     "text": [
      "              precision    recall  f1-score   support\n",
      "\n",
      "    business       0.56      0.41      0.47        79\n",
      "     culture       0.83      0.82      0.82       279\n",
      "   economics       0.75      0.87      0.81       266\n",
      "      forces       0.72      0.76      0.74       149\n",
      "        life       0.76      0.77      0.77       288\n",
      "       media       0.80      0.75      0.78       299\n",
      "     science       0.78      0.81      0.80       288\n",
      "       sport       0.95      0.96      0.95       276\n",
      "       style       0.93      0.68      0.79        38\n",
      "      travel       0.50      0.37      0.42        38\n",
      "\n",
      "    accuracy                           0.79      2000\n",
      "   macro avg       0.76      0.72      0.73      2000\n",
      "weighted avg       0.79      0.79      0.79      2000\n",
      "\n"
     ]
    }
   ],
   "source": [
    "from sklearn.feature_extraction.text import TfidfVectorizer\n",
    "from collections import defaultdict\n",
    "\n",
    "vectorizer = TfidfVectorizer()\n",
    "vectorizer.fit(data['article'])\n",
    "\n",
    "def weighted_vectorize(tokens, model, vectorizer):\n",
    "    weights = defaultdict(lambda: 1)\n",
    "    for word in tokens:\n",
    "        if word in vectorizer.vocabulary_:\n",
    "            weights[word] = vectorizer.idf_[vectorizer.vocabulary_[word]]\n",
    "    vectors = [weights[word] * model.wv[word] for word in tokens if word in model.wv]\n",
    "    if vectors:\n",
    "        return sum(vectors) / len(vectors)\n",
    "    else:\n",
    "        return np.zeros(model.vector_size)\n",
    "\n",
    "data['weighted_vector'] = data['processed_text'].apply(lambda x: weighted_vectorize(x, model, vectorizer))\n",
    "\n",
    "X_weighted = data['weighted_vector'].tolist()\n",
    "Xw_train, Xw_test, yw_train, yw_test = train_test_split(X_weighted, y, test_size=0.2, random_state=42)\n",
    "\n",
    "svm_classifier.fit(Xw_train, yw_train)\n",
    "yw_pred = svm_classifier.predict(Xw_test)\n",
    "print(classification_report(yw_test, yw_pred))"
   ]
  },
  {
   "cell_type": "markdown",
   "metadata": {},
   "source": [
    "В данном случае я решил попробовать использовать взвешенное усреденение, через домножение на Idf, чтобы учитывать вес каждого слова относительно всей коллекции документов что позволило увеличить accuracy на 2%. "
   ]
  }
 ],
 "metadata": {
  "kernelspec": {
   "display_name": "Python 3",
   "language": "python",
   "name": "python3"
  },
  "language_info": {
   "codemirror_mode": {
    "name": "ipython",
    "version": 3
   },
   "file_extension": ".py",
   "mimetype": "text/x-python",
   "name": "python",
   "nbconvert_exporter": "python",
   "pygments_lexer": "ipython3",
   "version": "3.11.2"
  }
 },
 "nbformat": 4,
 "nbformat_minor": 2
}
